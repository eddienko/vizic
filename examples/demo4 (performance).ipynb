{
 "cells": [
  {
   "cell_type": "markdown",
   "metadata": {},
   "source": [
    "# Performance Evaluation"
   ]
  },
  {
   "cell_type": "markdown",
   "metadata": {},
   "source": [
    "In this notebook, we provide the code we used to perform the test described in the paper submitted to **Astronomy and Computing**, [\"Vizic: A Jupyter based visualization tool for astronomical catalogs\"](https://arxiv.org/pdf/1701.01222.pdf). The first test examins the data ingestion performance for various sized catalogs and each contains 15 columns. The second test shows the benchmarks for loading maps of different sizes using Vizic. All tests were performed on a Macbook Pro running OS X El Capitan equipped with a 2.5GHz Intel Core i7 (i7-4870HQ) processor, 16Gb of RAM and a SSD.\n",
    "Both MongoDB instance and the Jupyter App server were running locally. Unless specifically stated, **Vizic** was tested using the browser Chrome."
   ]
  },
  {
   "cell_type": "markdown",
   "metadata": {},
   "source": [
    "### Test One (Data Ingestion)"
   ]
  },
  {
   "cell_type": "markdown",
   "metadata": {},
   "source": [
    "We first selected our sample data from the *SDSS* Data Release 13. Our sample data covers an $15*15$ degrees area in the sky. Then we randomly distribute these selected objects into a same $15*15$ degrees area to create our testing dataset. To make larger datasets, we keeps duplicating the testing catalog at the current level and redistributing them into the same area. The little code used to duplicate data from the sample and to randomly distribute them is shown below:"
   ]
  },
  {
   "cell_type": "markdown",
   "metadata": {
    "collapsed": true
   },
   "source": [
    "```python\n",
    "def overPop(df, times):\n",
    "    \"\"\"Duplicates a given sample catalog\n",
    "\n",
    "        Args:\n",
    "            df: given sample catalog without poistion values\n",
    "            times: how many times to duplicate the sample data\n",
    "    \"\"\"\n",
    "\n",
    "    df_copy = df.copy()\n",
    "    for i in range(times):\n",
    "        df_copy = df_copy.append(df_copy, ignore_index=True)\n",
    "\n",
    "    rows = df_copy.shape[0]\n",
    "    # create random positions\n",
    "    x = np.random.random_sample((rows,))*15\n",
    "    y = np.random.random_sample((rows,))*15\n",
    "    # assign poistions to objects in catalog\n",
    "    df_copy['ra'] = x\n",
    "    df_copy['dec'] = y\n",
    "\n",
    "    return df_copy\n",
    "```"
   ]
  },
  {
   "cell_type": "markdown",
   "metadata": {},
   "source": [
    "To checkout the data ingestion performance, we used the **timeit** magic to time the GridLayer creation process. The test result is provided below with the ingestion time on the y-axis and catalog size on the x-axis."
   ]
  },
  {
   "cell_type": "markdown",
   "metadata": {},
   "source": [
    "<img src=\"./data & figs/data_ingestion.jpg\">"
   ]
  },
  {
   "cell_type": "markdown",
   "metadata": {},
   "source": [
    "### Test Two (Map loadings)"
   ]
  },
  {
   "cell_type": "markdown",
   "metadata": {
    "collapsed": true
   },
   "source": [
    "The time it takes to load data from MongoDB database and display it on the map is another criticial measurement of Vizic's perofrmance. We used the Chrome DevTools to track the loading performance while interacting with the map (zooming in and out) from the notebook cells. \n",
    "\n",
    "For example, if we have a created map \"m\", we can manually set the zoom level of the rendered map as follows:"
   ]
  },
  {
   "cell_type": "markdown",
   "metadata": {},
   "source": [
    "```python\n",
    "m.zoom = 4\n",
    "```"
   ]
  },
  {
   "cell_type": "markdown",
   "metadata": {},
   "source": [
    "The figure below shows a screenshot of the Chrome DevTools, we take the average of the loading times for all map tiles and use it as the result. "
   ]
  },
  {
   "cell_type": "markdown",
   "metadata": {},
   "source": [
    "<img src=\"./data & figs/devtools.jpg\">"
   ]
  },
  {
   "cell_type": "markdown",
   "metadata": {
    "collapsed": true
   },
   "source": [
    "The final result for this test is displayed below with each curve representing a different zoom level. "
   ]
  },
  {
   "cell_type": "markdown",
   "metadata": {},
   "source": [
    "<img src=\"./data & figs/map_loading.jpg\">"
   ]
  }
 ],
 "metadata": {
  "kernelspec": {
   "display_name": "Python 3",
   "language": "python",
   "name": "python3"
  },
  "language_info": {
   "codemirror_mode": {
    "name": "ipython",
    "version": 3
   },
   "file_extension": ".py",
   "mimetype": "text/x-python",
   "name": "python",
   "nbconvert_exporter": "python",
   "pygments_lexer": "ipython3",
   "version": "3.4.3"
  }
 },
 "nbformat": 4,
 "nbformat_minor": 2
}
