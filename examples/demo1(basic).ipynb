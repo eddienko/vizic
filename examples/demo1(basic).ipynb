{
 "cells": [
  {
   "cell_type": "code",
   "execution_count": 1,
   "metadata": {
    "collapsed": true
   },
   "outputs": [],
   "source": [
    "from vizic import *\n",
    "import pandas as pd\n",
    "import numpy as np\n",
    "from ipywidgets import *"
   ]
  },
  {
   "cell_type": "code",
   "execution_count": 2,
   "metadata": {
    "collapsed": true
   },
   "outputs": [],
   "source": [
    "# If Jupyter sever is not running on the local host or having a port different than\n",
    "# 8888, NotebookUrl widget is needed to obtain server address\n",
    "url = NotebookUrl()\n",
    "url"
   ]
  },
  {
   "cell_type": "code",
   "execution_count": 3,
   "metadata": {
    "collapsed": true
   },
   "outputs": [],
   "source": [
    "# Initiate connection to mongodb database, the defaults are:\n",
    "# host = 'localhost'; port=27017; db='vis'; \n",
    "# url='http://localhost:8888/' (this is for jupyter server)\n",
    "c = Connection(url = url.nb_url)"
   ]
  },
  {
   "cell_type": "code",
   "execution_count": 9,
   "metadata": {
    "collapsed": false
   },
   "outputs": [],
   "source": [
    "df_vizic = pd.read_csv('demo.csv')\n",
    "df_vizic['radius'] = df_vizic.petroR90_r # assign radius column"
   ]
  },
  {
   "cell_type": "code",
   "execution_count": 11,
   "metadata": {
    "collapsed": false
   },
   "outputs": [
    {
     "name": "stdout",
     "output_type": "stream",
     "text": [
      "No shape information provided\n",
      "Will use radius for filtering!\n",
      "Mongodb collection name is vizic\n"
     ]
    }
   ],
   "source": [
    "g = GridLayer(c, coll_name=\"vizic\", df=df_vizic, scale_r=2)"
   ]
  },
  {
   "cell_type": "code",
   "execution_count": 12,
   "metadata": {
    "collapsed": true
   },
   "outputs": [],
   "source": [
    "# create map widget\n",
    "m = AstroMap(default_tiles=g, zoom=1)\n",
    "m"
   ]
  },
  {
   "cell_type": "code",
   "execution_count": 13,
   "metadata": {
    "collapsed": true
   },
   "outputs": [],
   "source": [
    "# color picker for layers\n",
    "LayerColorPicker(layer=g)"
   ]
  },
  {
   "cell_type": "code",
   "execution_count": 14,
   "metadata": {
    "collapsed": true
   },
   "outputs": [],
   "source": [
    "# display catalog for objects clicked\n",
    "PopupDis(layer=g)"
   ]
  },
  {
   "cell_type": "code",
   "execution_count": 16,
   "metadata": {
    "collapsed": true
   },
   "outputs": [],
   "source": [
    "# color by property\n",
    "g.custom_c = True\n",
    "cdrop = CFDropdown(g)\n",
    "cdrop.layout.width= '50%'\n",
    "cdrop"
   ]
  },
  {
   "cell_type": "code",
   "execution_count": 17,
   "metadata": {
    "collapsed": true
   },
   "outputs": [],
   "source": [
    "# filter object through slider bar\n",
    "f = FilterWidget(g)\n",
    "g.filter_obj = True\n",
    "f.link()\n",
    "f"
   ]
  },
  {
   "cell_type": "code",
   "execution_count": null,
   "metadata": {
    "collapsed": true
   },
   "outputs": [],
   "source": []
  }
 ],
 "metadata": {
  "kernelspec": {
   "display_name": "Python 3",
   "language": "python",
   "name": "python3"
  },
  "language_info": {
   "codemirror_mode": {
    "name": "ipython",
    "version": 3
   },
   "file_extension": ".py",
   "mimetype": "text/x-python",
   "name": "python",
   "nbconvert_exporter": "python",
   "pygments_lexer": "ipython3",
   "version": "3.4.3"
  },
  "widgets": {
   "state": {
    "3c1d3a798d9740a39b9f1f64a3b4684e": {
     "views": [
      {
       "cell_index": 1
      }
     ]
    },
    "65cd3f05d2444982af024b8221a124f5": {
     "views": [
      {
       "cell_index": 6
      }
     ]
    },
    "6aca7ce2041a4c87884f025aa806bd83": {
     "views": [
      {
       "cell_index": 9
      }
     ]
    },
    "6d6855b0ecb14dbba210b0a49c7dd0eb": {
     "views": [
      {
       "cell_index": 5
      }
     ]
    },
    "7f1b4d832b044e78acc47f32173578c3": {
     "views": [
      {
       "cell_index": 8
      }
     ]
    },
    "ab3dcb5c12654d28b0dde5cedd152d7d": {
     "views": [
      {
       "cell_index": 7
      }
     ]
    }
   },
   "version": "1.2.0"
  }
 },
 "nbformat": 4,
 "nbformat_minor": 1
}
