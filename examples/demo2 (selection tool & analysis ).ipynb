{
 "cells": [
  {
   "cell_type": "code",
   "execution_count": 1,
   "metadata": {
    "collapsed": false
   },
   "outputs": [],
   "source": [
    "from vizic import *\n",
    "import pandas as pd\n",
    "import numpy as np\n",
    "from ipywidgets import *\n",
    "url = NotebookUrl()\n",
    "url"
   ]
  },
  {
   "cell_type": "code",
   "execution_count": 2,
   "metadata": {
    "collapsed": false
   },
   "outputs": [],
   "source": [
    "c = Connection(url = url.nb_url)"
   ]
  },
  {
   "cell_type": "code",
   "execution_count": 3,
   "metadata": {
    "collapsed": false
   },
   "outputs": [
    {
     "name": "stdout",
     "output_type": "stream",
     "text": [
      "Mongodb collection name is vizic\n"
     ]
    }
   ],
   "source": [
    "g = GridLayer(c, collection=\"vizic\", scale_r=2)\n",
    "m = AstroMap(default_tiles=g, zoom=1)\n",
    "cp = LayerColorPicker(layer=g, concise=True) # color picker (single)\n",
    "p = PopupDis(layer=g) # catalog display for clicking\n",
    "hb = HomeButton(m) # home button\n",
    "s = SelectionTrig(m) # selection tool trigger\n",
    "s.link()\n",
    "get = GetDataButton(g) # retrieve data for selection\n",
    "# color map\n",
    "cdrop = CFDropdown(g); g.custom_c = True\n",
    "# filter widget\n",
    "f = FilterWidget(g)\n",
    "g.filter_obj = True\n",
    "f.link()"
   ]
  },
  {
   "cell_type": "code",
   "execution_count": 4,
   "metadata": {
    "collapsed": true
   },
   "outputs": [],
   "source": [
    "# create custom GUI\n",
    "accordion = Accordion(children=[cdrop, f, p])\n",
    "accordion.set_title(2, 'Object Catalog')\n",
    "accordion.set_title(0, 'Color by Property')\n",
    "accordion.set_title(1, 'Filter Objects')\n",
    "accordion.layout.width = '50%'\n",
    "accordion.layout.overflow_x = 'scroll'"
   ]
  },
  {
   "cell_type": "code",
   "execution_count": 5,
   "metadata": {
    "collapsed": false
   },
   "outputs": [],
   "source": [
    "app = HBox([m, VBox([hb, s, get, cp]), accordion]); app"
   ]
  },
  {
   "cell_type": "code",
   "execution_count": 7,
   "metadata": {
    "collapsed": false
   },
   "outputs": [
    {
     "data": {
      "text/html": [
       "<div>\n",
       "<table border=\"1\" class=\"dataframe\">\n",
       "  <thead>\n",
       "    <tr style=\"text-align: right;\">\n",
       "      <th></th>\n",
       "      <th>CLEAN</th>\n",
       "      <th>DEC</th>\n",
       "      <th>G</th>\n",
       "      <th>I</th>\n",
       "      <th>OBJID</th>\n",
       "      <th>PETROR90_R</th>\n",
       "      <th>Q_R</th>\n",
       "      <th>R</th>\n",
       "      <th>RA</th>\n",
       "      <th>RADIUS</th>\n",
       "      <th>TYPE</th>\n",
       "      <th>U</th>\n",
       "      <th>U_R</th>\n",
       "      <th>Z</th>\n",
       "      <th>ZS</th>\n",
       "    </tr>\n",
       "  </thead>\n",
       "  <tbody>\n",
       "    <tr>\n",
       "      <th>15</th>\n",
       "      <td>1.0</td>\n",
       "      <td>5.038412</td>\n",
       "      <td>20.21681</td>\n",
       "      <td>20.21681</td>\n",
       "      <td>1.237656e+18</td>\n",
       "      <td>6.211056</td>\n",
       "      <td>0.149569</td>\n",
       "      <td>20.21681</td>\n",
       "      <td>228.98218</td>\n",
       "      <td>6.211056</td>\n",
       "      <td>3.0</td>\n",
       "      <td>20.21681</td>\n",
       "      <td>0.206719</td>\n",
       "      <td>20.21681</td>\n",
       "      <td>0.142595</td>\n",
       "    </tr>\n",
       "    <tr>\n",
       "      <th>16</th>\n",
       "      <td>1.0</td>\n",
       "      <td>5.094063</td>\n",
       "      <td>24.38345</td>\n",
       "      <td>24.38345</td>\n",
       "      <td>1.237656e+18</td>\n",
       "      <td>3.037672</td>\n",
       "      <td>-0.153382</td>\n",
       "      <td>24.38345</td>\n",
       "      <td>228.99356</td>\n",
       "      <td>3.037672</td>\n",
       "      <td>3.0</td>\n",
       "      <td>24.38345</td>\n",
       "      <td>0.242881</td>\n",
       "      <td>24.38345</td>\n",
       "      <td>0.000034</td>\n",
       "    </tr>\n",
       "  </tbody>\n",
       "</table>\n",
       "</div>"
      ],
      "text/plain": [
       "    CLEAN       DEC         G         I         OBJID  PETROR90_R       Q_R  \\\n",
       "15    1.0  5.038412  20.21681  20.21681  1.237656e+18    6.211056  0.149569   \n",
       "16    1.0  5.094063  24.38345  24.38345  1.237656e+18    3.037672 -0.153382   \n",
       "\n",
       "           R         RA    RADIUS  TYPE         U       U_R         Z  \\\n",
       "15  20.21681  228.98218  6.211056   3.0  20.21681  0.206719  20.21681   \n",
       "16  24.38345  228.99356  3.037672   3.0  24.38345  0.242881  24.38345   \n",
       "\n",
       "          ZS  \n",
       "15  0.142595  \n",
       "16  0.000034  "
      ]
     },
     "execution_count": 7,
     "metadata": {},
     "output_type": "execute_result"
    }
   ],
   "source": [
    "# selection tool return data\n",
    "g.select_data.tail(n=2)"
   ]
  },
  {
   "cell_type": "code",
   "execution_count": 8,
   "metadata": {
    "collapsed": false
   },
   "outputs": [
    {
     "data": {
      "image/png": "[encoded data removed]",
      "text/plain": [
       "<matplotlib.figure.Figure at 0x10f8507f0>"
      ]
     },
     "metadata": {},
     "output_type": "display_data"
    }
   ],
   "source": [
    "# explore patterns within returned catalog\n",
    "%matplotlib inline\n",
    "import matplotlib.pyplot as plt\n",
    "fig = plt.figure(figsize=(10,3))\n",
    "ax1 = fig.add_subplot(1,2,1); ax1.scatter(g.select_data.PETROR90_R, g.select_data.U_R); ax1.set_title('U_R vs PETROR90_R')\n",
    "ax2 = fig.add_subplot(1,2,2); ax2.scatter(g.select_data.PETROR90_R, g.select_data.ZS, c='r'); ax2.set_title('ZS vs PETROR90_R')\n",
    "plt.tight_layout()"
   ]
  },
  {
   "cell_type": "code",
   "execution_count": null,
   "metadata": {
    "collapsed": true
   },
   "outputs": [],
   "source": []
  }
 ],
 "metadata": {
  "kernelspec": {
   "display_name": "Python 3",
   "language": "python",
   "name": "python3"
  },
  "language_info": {
   "codemirror_mode": {
    "name": "ipython",
    "version": 3
   },
   "file_extension": ".py",
   "mimetype": "text/x-python",
   "name": "python",
   "nbconvert_exporter": "python",
   "pygments_lexer": "ipython3",
   "version": "3.4.3"
  },
  "widgets": {
   "state": {
    "286c3824ef674db4b05927a5a44ce170": {
     "views": [
      {
       "cell_index": 0
      }
     ]
    },
    "b08ae442a45c4bb192cec2ff5189bc32": {
     "views": [
      {
       "cell_index": 4
      }
     ]
    }
   },
   "version": "1.2.0"
  }
 },
 "nbformat": 4,
 "nbformat_minor": 1
}
