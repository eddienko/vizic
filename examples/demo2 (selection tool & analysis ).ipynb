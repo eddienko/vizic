{
 "cells": [
  {
   "cell_type": "code",
   "execution_count": 1,
   "metadata": {
    "collapsed": true
   },
   "outputs": [],
   "source": [
    "from vizic import *\n",
    "import pandas as pd\n",
    "import numpy as np\n",
    "from ipywidgets import *\n",
    "url = NotebookUrl()\n",
    "url"
   ]
  },
  {
   "cell_type": "code",
   "execution_count": 2,
   "metadata": {
    "collapsed": true
   },
   "outputs": [],
   "source": [
    "c = Connection(url = url.nb_url)"
   ]
  },
  {
   "cell_type": "code",
   "execution_count": 3,
   "metadata": {
    "collapsed": false
   },
   "outputs": [
    {
     "name": "stdout",
     "output_type": "stream",
     "text": [
      "Mongodb collection name is vizic\n"
     ]
    }
   ],
   "source": [
    "g = GridLayer(c, collection=\"vizic\", scale_r=2)\n",
    "m = AstroMap(default_tiles=g, zoom=1)\n",
    "cp = LayerColorPicker(layer=g, concise=True) # color picker (single)\n",
    "p = PopupDis(layer=g) # catalog display for clicking\n",
    "hb = HomeButton(m) # home button\n",
    "s = SelectionTrig(m) # selection tool trigger\n",
    "s.link()\n",
    "get = GetDataButton(g) # retrieve data for selection\n",
    "# color map\n",
    "cdrop = CFDropdown(g); g.custom_c = True\n",
    "# filter widget\n",
    "f = FilterWidget(g)\n",
    "g.filter_obj = True\n",
    "f.link()"
   ]
  },
  {
   "cell_type": "code",
   "execution_count": 4,
   "metadata": {
    "collapsed": true
   },
   "outputs": [],
   "source": [
    "# create custom GUI\n",
    "accordion = Accordion(children=[cdrop, f, p])\n",
    "accordion.set_title(2, 'Object Catalog')\n",
    "accordion.set_title(0, 'Color by Property')\n",
    "accordion.set_title(1, 'Filter Objects')\n",
    "accordion.layout.width = '50%'\n",
    "accordion.layout.overflow_x = 'scroll'"
   ]
  },
  {
   "cell_type": "code",
   "execution_count": 5,
   "metadata": {
    "collapsed": true
   },
   "outputs": [],
   "source": [
    "app = HBox([m, VBox([hb, s, get, cp]), accordion]); app"
   ]
  },
  {
   "cell_type": "code",
   "execution_count": 6,
   "metadata": {
    "collapsed": false
   },
   "outputs": [
    {
     "data": {
      "text/html": [
       "<div>\n",
       "<table border=\"1\" class=\"dataframe\">\n",
       "  <thead>\n",
       "    <tr style=\"text-align: right;\">\n",
       "      <th></th>\n",
       "      <th>CLEAN</th>\n",
       "      <th>DEC</th>\n",
       "      <th>G</th>\n",
       "      <th>I</th>\n",
       "      <th>OBJID</th>\n",
       "      <th>PETROR90_R</th>\n",
       "      <th>Q_R</th>\n",
       "      <th>R</th>\n",
       "      <th>RA</th>\n",
       "      <th>RADIUS</th>\n",
       "      <th>TYPE</th>\n",
       "      <th>U</th>\n",
       "      <th>U_R</th>\n",
       "      <th>Z</th>\n",
       "      <th>ZS</th>\n",
       "    </tr>\n",
       "  </thead>\n",
       "  <tbody>\n",
       "    <tr>\n",
       "      <th>81</th>\n",
       "      <td>1.0</td>\n",
       "      <td>5.549199</td>\n",
       "      <td>18.54231</td>\n",
       "      <td>18.54231</td>\n",
       "      <td>1.237656e+18</td>\n",
       "      <td>7.376487</td>\n",
       "      <td>-0.002337</td>\n",
       "      <td>18.54231</td>\n",
       "      <td>228.77685</td>\n",
       "      <td>7.376487</td>\n",
       "      <td>3.0</td>\n",
       "      <td>18.54231</td>\n",
       "      <td>-0.04362</td>\n",
       "      <td>18.54231</td>\n",
       "      <td>0.080819</td>\n",
       "    </tr>\n",
       "    <tr>\n",
       "      <th>82</th>\n",
       "      <td>1.0</td>\n",
       "      <td>5.610237</td>\n",
       "      <td>19.21595</td>\n",
       "      <td>19.21595</td>\n",
       "      <td>1.237656e+18</td>\n",
       "      <td>7.001575</td>\n",
       "      <td>-0.000669</td>\n",
       "      <td>19.21595</td>\n",
       "      <td>228.72196</td>\n",
       "      <td>7.001575</td>\n",
       "      <td>3.0</td>\n",
       "      <td>19.21595</td>\n",
       "      <td>0.02225</td>\n",
       "      <td>19.21595</td>\n",
       "      <td>0.174043</td>\n",
       "    </tr>\n",
       "  </tbody>\n",
       "</table>\n",
       "</div>"
      ],
      "text/plain": [
       "    CLEAN       DEC         G         I         OBJID  PETROR90_R       Q_R  \\\n",
       "81    1.0  5.549199  18.54231  18.54231  1.237656e+18    7.376487 -0.002337   \n",
       "82    1.0  5.610237  19.21595  19.21595  1.237656e+18    7.001575 -0.000669   \n",
       "\n",
       "           R         RA    RADIUS  TYPE         U      U_R         Z        ZS  \n",
       "81  18.54231  228.77685  7.376487   3.0  18.54231 -0.04362  18.54231  0.080819  \n",
       "82  19.21595  228.72196  7.001575   3.0  19.21595  0.02225  19.21595  0.174043  "
      ]
     },
     "execution_count": 6,
     "metadata": {},
     "output_type": "execute_result"
    }
   ],
   "source": [
    "# selection tool return data\n",
    "g.select_data.tail(n=2)"
   ]
  },
  {
   "cell_type": "code",
   "execution_count": 7,
   "metadata": {
    "collapsed": false
   },
   "outputs": [
    {
     "data": {
      "image/png": "[encoded data removed]",
      "text/plain": [
       "<matplotlib.figure.Figure at 0x10f1d9d68>"
      ]
     },
     "metadata": {},
     "output_type": "display_data"
    }
   ],
   "source": [
    "# explore patterns within returned catalog\n",
    "%matplotlib inline\n",
    "import matplotlib.pyplot as plt\n",
    "fig = plt.figure(figsize=(10,3))\n",
    "ax1 = fig.add_subplot(1,2,1); ax1.scatter(g.select_data.PETROR90_R, g.select_data.U_R); ax1.set_title('U_R vs PETROR90_R')\n",
    "ax2 = fig.add_subplot(1,2,2); ax2.scatter(g.select_data.PETROR90_R, g.select_data.ZS, c='r'); ax2.set_title('ZS vs PETROR90_R')\n",
    "plt.tight_layout()"
   ]
  },
  {
   "cell_type": "code",
   "execution_count": null,
   "metadata": {
    "collapsed": true
   },
   "outputs": [],
   "source": []
  }
 ],
 "metadata": {
  "kernelspec": {
   "display_name": "Python 3",
   "language": "python",
   "name": "python3"
  },
  "language_info": {
   "codemirror_mode": {
    "name": "ipython",
    "version": 3
   },
   "file_extension": ".py",
   "mimetype": "text/x-python",
   "name": "python",
   "nbconvert_exporter": "python",
   "pygments_lexer": "ipython3",
   "version": "3.4.3"
  },
  "widgets": {
   "state": {
    "81b55e1426d549a6a2449d4926a0cea8": {
     "views": [
      {
       "cell_index": 4
      }
     ]
    },
    "b4f31ee5ec674c6b88fae6ef1321e249": {
     "views": [
      {
       "cell_index": 0
      }
     ]
    }
   },
   "version": "1.2.0"
  }
 },
 "nbformat": 4,
 "nbformat_minor": 1
}
