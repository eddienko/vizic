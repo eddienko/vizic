{
 "cells": [
  {
   "cell_type": "code",
   "execution_count": null,
   "metadata": {
    "collapsed": false,
    "deletable": true,
    "editable": true
   },
   "outputs": [],
   "source": [
    "from vizic import *\n",
    "import pandas as pd\n",
    "import numpy as np\n",
    "from ipywidgets import *"
   ]
  },
  {
   "cell_type": "code",
   "execution_count": null,
   "metadata": {
    "collapsed": false,
    "deletable": true,
    "editable": true
   },
   "outputs": [],
   "source": [
    "c = Connection()"
   ]
  },
  {
   "cell_type": "code",
   "execution_count": null,
   "metadata": {
    "collapsed": false,
    "deletable": true,
    "editable": true
   },
   "outputs": [],
   "source": [
    "g = GridLayer(c, collection=\"vizic\", scale_r=2)\n",
    "m = AstroMap(default_tiles=g, zoom=1)\n",
    "cp = LayerColorPicker(layer=g, concise=True) # color picker (single)\n",
    "p = PopupDis(layer=g) # catalog display for clicking\n",
    "hb = HomeButton(m) # home button\n",
    "s = SelectionTrig(m) # selection tool trigger\n",
    "s.link()\n",
    "get = GetDataButton(g) # retrieve data for selection\n",
    "# color map\n",
    "cdrop = CFDropdown(g); g.custom_c = True\n",
    "# filter widget\n",
    "f = FilterWidget(g)\n",
    "g.filter_obj = True\n",
    "f.link()"
   ]
  },
  {
   "cell_type": "code",
   "execution_count": null,
   "metadata": {
    "collapsed": true,
    "deletable": true,
    "editable": true
   },
   "outputs": [],
   "source": [
    "# create custom GUI\n",
    "accordion = Accordion(children=[cdrop, f, p])\n",
    "accordion.set_title(2, 'Object Catalog')\n",
    "accordion.set_title(0, 'Color by Property')\n",
    "accordion.set_title(1, 'Filter Objects')\n",
    "accordion.layout.width = '50%'\n",
    "accordion.layout.overflow_x = 'scroll'"
   ]
  },
  {
   "cell_type": "code",
   "execution_count": null,
   "metadata": {
    "collapsed": false,
    "deletable": true,
    "editable": true
   },
   "outputs": [],
   "source": [
    "app = HBox([m, VBox([hb, s, get, cp]), accordion]); app"
   ]
  },
  {
   "cell_type": "code",
   "execution_count": null,
   "metadata": {
    "collapsed": false,
    "deletable": true,
    "editable": true
   },
   "outputs": [],
   "source": [
    "# selection tool return data\n",
    "g.select_data.tail(n=2)"
   ]
  },
  {
   "cell_type": "code",
   "execution_count": null,
   "metadata": {
    "collapsed": false,
    "deletable": true,
    "editable": true
   },
   "outputs": [],
   "source": [
    "# explore patterns within returned catalog\n",
    "%matplotlib inline\n",
    "import matplotlib.pyplot as plt\n",
    "fig = plt.figure(figsize=(10,3))\n",
    "ax1 = fig.add_subplot(1,2,1); ax1.scatter(g.select_data.PETROR90_R, g.select_data.U_R); ax1.set_title('U_R vs PETROR90_R')\n",
    "ax2 = fig.add_subplot(1,2,2); ax2.scatter(g.select_data.PETROR90_R, g.select_data.ZS, c='r'); ax2.set_title('ZS vs PETROR90_R')\n",
    "plt.tight_layout()"
   ]
  },
  {
   "cell_type": "code",
   "execution_count": null,
   "metadata": {
    "collapsed": true,
    "deletable": true,
    "editable": true
   },
   "outputs": [],
   "source": []
  }
 ],
 "metadata": {
  "kernelspec": {
   "display_name": "Python 3",
   "language": "python",
   "name": "python3"
  },
  "language_info": {
   "codemirror_mode": {
    "name": "ipython",
    "version": 3
   },
   "file_extension": ".py",
   "mimetype": "text/x-python",
   "name": "python",
   "nbconvert_exporter": "python",
   "pygments_lexer": "ipython3",
   "version": "3.4.3"
  }
 },
 "nbformat": 4,
 "nbformat_minor": 1
}
