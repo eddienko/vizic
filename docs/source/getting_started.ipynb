{
 "cells": [
  {
   "cell_type": "markdown",
   "metadata": {},
   "source": [
    "# Getting Started"
   ]
  },
  {
   "cell_type": "markdown",
   "metadata": {},
   "source": [
    "**Vizic** uses MongoDB for data storage, and an added Jupyter server extension to direct catalog request to the database. Therefore the server extension needs to be specified when starting the Jupyter Notebook App from the command line."
   ]
  },
  {
   "cell_type": "markdown",
   "metadata": {},
   "source": [
    "To start the Notebook App:\n",
    "\n",
    "\tjupyter notebook --NotebookApp.nbserver_extensions=\"{'vizic.mongo_ext.extension':True}\""
   ]
  },
  {
   "cell_type": "markdown",
   "metadata": {},
   "source": [
    "In addition, a running MongoDB instance is requied. To start a new instance on the local machine, enter the following command in a new terminal window:\n",
    "    \n",
    "    mongod"
   ]
  },
  {
   "cell_type": "markdown",
   "metadata": {},
   "source": [
    "On Linux machines, MongoDB instance can be also started with:\n",
    "\n",
    "    sudo service mongod start"
   ]
  },
  {
   "cell_type": "markdown",
   "metadata": {},
   "source": [
    "<div class=\"alert alert-info\">\n",
    "\n",
    "**Note:** \n",
    "\n",
    "Before starting a MongoDB instance, the directory of dabase files must exist. The default path is \"/data/db/\". If such path doesn't exist, errors will be thrown by MongoDB. In some cases, you might experience difficulties starting an instance due to permission issue or file lock, the solution would be specify a new directory for data storage using the command \n",
    "\n",
    "    mongod --dbpath /custom/path/\n",
    "\n",
    "</div>"
   ]
  },
  {
   "cell_type": "markdown",
   "metadata": {},
   "source": [
    "After the MongoDB database and the Jupyte App are setted up, we can start to work with **Vizic**. Some basic features are deomnstrated below, for more indepth exmaples and a demo dataset, please check out the repository on GitHub."
   ]
  },
  {
   "cell_type": "markdown",
   "metadata": {},
   "source": [
    "## Connection"
   ]
  },
  {
   "cell_type": "code",
   "execution_count": 5,
   "metadata": {
    "collapsed": true
   },
   "outputs": [],
   "source": [
    "from vizic import *\n",
    "import pandas as pd\n",
    "import numpy as np\n",
    "from ipywidgets import *\n",
    "url = NotebookUrl()\n",
    "url"
   ]
  },
  {
   "cell_type": "code",
   "execution_count": 6,
   "metadata": {
    "collapsed": false
   },
   "outputs": [],
   "source": [
    "# set up the connection with MongoDB database\n",
    "c = Connection(url = url.nb_url)"
   ]
  },
  {
   "cell_type": "markdown",
   "metadata": {},
   "source": [
    "AstroMap"
   ]
  },
  {
   "cell_type": "code",
   "execution_count": 4,
   "metadata": {
    "collapsed": false
   },
   "outputs": [
    {
     "name": "stdout",
     "output_type": "stream",
     "text": [
      "Mongodb collection name is vizic\n"
     ]
    }
   ],
   "source": [
    "# now add default tile layer\n",
    "g = GridLayer(c, collection=\"vizic\")\n",
    "m = AstroMap(default_tiles=g, zoom=1, zoom_control=False, attribution_control=False, position_control=True, fullscreen_control=False)\n",
    "# m.add_layer(g)\n",
    "cp = LayerColorPicker(layer=g, concise=True)\n",
    "p = PopupDis(layer=g)\n",
    "hb = HomeButton(m)\n",
    "s = SelectionTrig(m)\n",
    "s.link()\n",
    "get = GetDataButton(g)"
   ]
  },
  {
   "cell_type": "code",
   "execution_count": 5,
   "metadata": {
    "collapsed": true
   },
   "outputs": [],
   "source": [
    "cdrop = CFDropdown(g)\n",
    "g.custom_c = True"
   ]
  },
  {
   "cell_type": "code",
   "execution_count": 6,
   "metadata": {
    "collapsed": false
   },
   "outputs": [
    {
     "data": {
      "text/plain": [
       "dict_keys(['I', 'RA', 'Z', 'U_R', 'DEC', 'Q_R', 'R', 'RADIUS', 'PETROR90_R', 'ZS', 'G', 'U'])"
      ]
     },
     "execution_count": 6,
     "metadata": {},
     "output_type": "execute_result"
    }
   ],
   "source": [
    "g.get_fields()"
   ]
  },
  {
   "cell_type": "code",
   "execution_count": 7,
   "metadata": {
    "collapsed": true
   },
   "outputs": [],
   "source": [
    "f = FilterWidget(g)\n",
    "g.filter_obj = True\n",
    "f.link()"
   ]
  },
  {
   "cell_type": "code",
   "execution_count": 8,
   "metadata": {
    "collapsed": true
   },
   "outputs": [],
   "source": [
    "accordion = Accordion(children=[cdrop, f, p])\n",
    "accordion.set_title(2, 'Object Catalog')\n",
    "accordion.set_title(0, 'Color by Property')\n",
    "accordion.set_title(1, 'Filter Objects')\n",
    "accordion.layout.width = '50%'\n",
    "accordion.layout.overflow_x = 'scroll'"
   ]
  },
  {
   "cell_type": "code",
   "execution_count": 9,
   "metadata": {
    "collapsed": true
   },
   "outputs": [],
   "source": [
    "app = HBox([m, VBox([hb, s, get, cp]), accordion]); app"
   ]
  },
  {
   "cell_type": "code",
   "execution_count": null,
   "metadata": {
    "collapsed": true
   },
   "outputs": [],
   "source": []
  }
 ],
 "metadata": {
  "kernelspec": {
   "display_name": "Python 3",
   "language": "python",
   "name": "python3"
  },
  "language_info": {
   "codemirror_mode": {
    "name": "ipython",
    "version": 3
   },
   "file_extension": ".py",
   "mimetype": "text/x-python",
   "name": "python",
   "nbconvert_exporter": "python",
   "pygments_lexer": "ipython3",
   "version": "3.4.3"
  },
  "widgets": {
   "state": {
    "c05bf6c1f8f9470faec8e0dcd3d09850": {
     "views": [
      {
       "cell_index": 8
      }
     ]
    }
   },
   "version": "1.2.0"
  }
 },
 "nbformat": 4,
 "nbformat_minor": 2
}
